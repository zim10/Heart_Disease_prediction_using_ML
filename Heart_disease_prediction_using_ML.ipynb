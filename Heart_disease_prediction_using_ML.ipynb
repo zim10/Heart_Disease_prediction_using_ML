{
  "nbformat": 4,
  "nbformat_minor": 0,
  "metadata": {
    "colab": {
      "name": "Heart_disease_prediction_using_ML.ipynb",
      "provenance": [],
      "collapsed_sections": [],
      "authorship_tag": "ABX9TyPgnD0KeIQa/Pkvyo2KqzoV"
    },
    "kernelspec": {
      "name": "python3",
      "display_name": "Python 3"
    },
    "language_info": {
      "name": "python"
    }
  },
  "cells": [
    {
      "cell_type": "markdown",
      "metadata": {
        "id": "BNK4jVAEQt3K"
      },
      "source": [
        "### **Project name:Heart Disease Prediction Using Machine Learning**\n",
        "The leading cause of death in the developed world is heart disease. Therefore there needs to be work done to help prevent the risks of of having a heart attack.\n",
        "This notebook uses python and many helpful libraries to predict whether or not a patient has heart disease based on 14 attributes such as (blood pressure, cholestoral levels, chest pain, and other attributes)\n",
        "\n",
        "**----By Md. Azim Khan**"
      ]
    },
    {
      "cell_type": "markdown",
      "metadata": {
        "id": "HUH70Uc-xGRE"
      },
      "source": [
        "**Import required libraries**"
      ]
    },
    {
      "cell_type": "code",
      "metadata": {
        "id": "tvExSvX3QJbC"
      },
      "source": [
        "import pandas as pd\n",
        "import numpy as np\n",
        "import seaborn as sns\n",
        "import matplotlib.pyplot as plt\n",
        "# to remove unnecessary warnings\n",
        "import warnings\n",
        "warnings.filterwarnings('ignore')\n",
        "from sklearn.model_selection import train_test_split\n",
        "from sklearn.tree import DecisionTreeClassifier\n",
        "from sklearn.tree import plot_tree\n",
        "from sklearn.metrics import accuracy_score, classification_report, confusion_matrix\n",
        "from sklearn.metrics import roc_curve, roc_auc_score, precision_score, recall_score, f1_score\n",
        "from sklearn.metrics import plot_confusion_matrix"
      ],
      "execution_count": 53,
      "outputs": []
    },
    {
      "cell_type": "markdown",
      "metadata": {
        "id": "eXcOgQBrpsUl"
      },
      "source": [
        "**Import Data**"
      ]
    },
    {
      "cell_type": "code",
      "metadata": {
        "id": "ssR7bJoTRiy5"
      },
      "source": [
        "url = 'https://archive.ics.uci.edu/ml/machine-learning-databases/heart-disease/processed.cleveland.data'\n",
        "df = pd.read_csv(url, header = None)"
      ],
      "execution_count": 54,
      "outputs": []
    },
    {
      "cell_type": "code",
      "metadata": {
        "colab": {
          "base_uri": "https://localhost:8080/",
          "height": 224
        },
        "id": "8HgevVjpS7to",
        "outputId": "a124f482-95cc-4ce9-9031-49c2bae9a2db"
      },
      "source": [
        "# show some observation from dataset.\n",
        "display(df.head(5))\n",
        "display(df.shape)"
      ],
      "execution_count": 55,
      "outputs": [
        {
          "output_type": "display_data",
          "data": {
            "text/html": [
              "<div>\n",
              "<style scoped>\n",
              "    .dataframe tbody tr th:only-of-type {\n",
              "        vertical-align: middle;\n",
              "    }\n",
              "\n",
              "    .dataframe tbody tr th {\n",
              "        vertical-align: top;\n",
              "    }\n",
              "\n",
              "    .dataframe thead th {\n",
              "        text-align: right;\n",
              "    }\n",
              "</style>\n",
              "<table border=\"1\" class=\"dataframe\">\n",
              "  <thead>\n",
              "    <tr style=\"text-align: right;\">\n",
              "      <th></th>\n",
              "      <th>0</th>\n",
              "      <th>1</th>\n",
              "      <th>2</th>\n",
              "      <th>3</th>\n",
              "      <th>4</th>\n",
              "      <th>5</th>\n",
              "      <th>6</th>\n",
              "      <th>7</th>\n",
              "      <th>8</th>\n",
              "      <th>9</th>\n",
              "      <th>10</th>\n",
              "      <th>11</th>\n",
              "      <th>12</th>\n",
              "      <th>13</th>\n",
              "    </tr>\n",
              "  </thead>\n",
              "  <tbody>\n",
              "    <tr>\n",
              "      <th>0</th>\n",
              "      <td>63.0</td>\n",
              "      <td>1.0</td>\n",
              "      <td>1.0</td>\n",
              "      <td>145.0</td>\n",
              "      <td>233.0</td>\n",
              "      <td>1.0</td>\n",
              "      <td>2.0</td>\n",
              "      <td>150.0</td>\n",
              "      <td>0.0</td>\n",
              "      <td>2.3</td>\n",
              "      <td>3.0</td>\n",
              "      <td>0.0</td>\n",
              "      <td>6.0</td>\n",
              "      <td>0</td>\n",
              "    </tr>\n",
              "    <tr>\n",
              "      <th>1</th>\n",
              "      <td>67.0</td>\n",
              "      <td>1.0</td>\n",
              "      <td>4.0</td>\n",
              "      <td>160.0</td>\n",
              "      <td>286.0</td>\n",
              "      <td>0.0</td>\n",
              "      <td>2.0</td>\n",
              "      <td>108.0</td>\n",
              "      <td>1.0</td>\n",
              "      <td>1.5</td>\n",
              "      <td>2.0</td>\n",
              "      <td>3.0</td>\n",
              "      <td>3.0</td>\n",
              "      <td>2</td>\n",
              "    </tr>\n",
              "    <tr>\n",
              "      <th>2</th>\n",
              "      <td>67.0</td>\n",
              "      <td>1.0</td>\n",
              "      <td>4.0</td>\n",
              "      <td>120.0</td>\n",
              "      <td>229.0</td>\n",
              "      <td>0.0</td>\n",
              "      <td>2.0</td>\n",
              "      <td>129.0</td>\n",
              "      <td>1.0</td>\n",
              "      <td>2.6</td>\n",
              "      <td>2.0</td>\n",
              "      <td>2.0</td>\n",
              "      <td>7.0</td>\n",
              "      <td>1</td>\n",
              "    </tr>\n",
              "    <tr>\n",
              "      <th>3</th>\n",
              "      <td>37.0</td>\n",
              "      <td>1.0</td>\n",
              "      <td>3.0</td>\n",
              "      <td>130.0</td>\n",
              "      <td>250.0</td>\n",
              "      <td>0.0</td>\n",
              "      <td>0.0</td>\n",
              "      <td>187.0</td>\n",
              "      <td>0.0</td>\n",
              "      <td>3.5</td>\n",
              "      <td>3.0</td>\n",
              "      <td>0.0</td>\n",
              "      <td>3.0</td>\n",
              "      <td>0</td>\n",
              "    </tr>\n",
              "    <tr>\n",
              "      <th>4</th>\n",
              "      <td>41.0</td>\n",
              "      <td>0.0</td>\n",
              "      <td>2.0</td>\n",
              "      <td>130.0</td>\n",
              "      <td>204.0</td>\n",
              "      <td>0.0</td>\n",
              "      <td>2.0</td>\n",
              "      <td>172.0</td>\n",
              "      <td>0.0</td>\n",
              "      <td>1.4</td>\n",
              "      <td>1.0</td>\n",
              "      <td>0.0</td>\n",
              "      <td>3.0</td>\n",
              "      <td>0</td>\n",
              "    </tr>\n",
              "  </tbody>\n",
              "</table>\n",
              "</div>"
            ],
            "text/plain": [
              "     0    1    2      3      4    5    6      7    8    9    10   11   12  13\n",
              "0  63.0  1.0  1.0  145.0  233.0  1.0  2.0  150.0  0.0  2.3  3.0  0.0  6.0   0\n",
              "1  67.0  1.0  4.0  160.0  286.0  0.0  2.0  108.0  1.0  1.5  2.0  3.0  3.0   2\n",
              "2  67.0  1.0  4.0  120.0  229.0  0.0  2.0  129.0  1.0  2.6  2.0  2.0  7.0   1\n",
              "3  37.0  1.0  3.0  130.0  250.0  0.0  0.0  187.0  0.0  3.5  3.0  0.0  3.0   0\n",
              "4  41.0  0.0  2.0  130.0  204.0  0.0  2.0  172.0  0.0  1.4  1.0  0.0  3.0   0"
            ]
          },
          "metadata": {}
        },
        {
          "output_type": "display_data",
          "data": {
            "text/plain": [
              "(303, 14)"
            ]
          },
          "metadata": {}
        }
      ]
    },
    {
      "cell_type": "markdown",
      "metadata": {
        "id": "-a7csXLM6-51"
      },
      "source": [
        "**Comment:** From dataset, columns names are numerical, it needs to change. Now column name change according to website information."
      ]
    },
    {
      "cell_type": "code",
      "metadata": {
        "id": "1rPSQ-20TSsf"
      },
      "source": [
        "# change the column name\n",
        "df.columns = ['age','sex','cp','trestbps','chol','fbs','restecg','thalach','exang','oldpeak','slope','ca','thal','hd']"
      ],
      "execution_count": 56,
      "outputs": []
    },
    {
      "cell_type": "code",
      "metadata": {
        "colab": {
          "base_uri": "https://localhost:8080/",
          "height": 205
        },
        "id": "mPd0C1v2VolB",
        "outputId": "f5b8d8a0-f188-496c-aa25-aec0a516091c"
      },
      "source": [
        "df.head(5)"
      ],
      "execution_count": 57,
      "outputs": [
        {
          "output_type": "execute_result",
          "data": {
            "text/html": [
              "<div>\n",
              "<style scoped>\n",
              "    .dataframe tbody tr th:only-of-type {\n",
              "        vertical-align: middle;\n",
              "    }\n",
              "\n",
              "    .dataframe tbody tr th {\n",
              "        vertical-align: top;\n",
              "    }\n",
              "\n",
              "    .dataframe thead th {\n",
              "        text-align: right;\n",
              "    }\n",
              "</style>\n",
              "<table border=\"1\" class=\"dataframe\">\n",
              "  <thead>\n",
              "    <tr style=\"text-align: right;\">\n",
              "      <th></th>\n",
              "      <th>age</th>\n",
              "      <th>sex</th>\n",
              "      <th>cp</th>\n",
              "      <th>trestbps</th>\n",
              "      <th>chol</th>\n",
              "      <th>fbs</th>\n",
              "      <th>restecg</th>\n",
              "      <th>thalach</th>\n",
              "      <th>exang</th>\n",
              "      <th>oldpeak</th>\n",
              "      <th>slope</th>\n",
              "      <th>ca</th>\n",
              "      <th>thal</th>\n",
              "      <th>hd</th>\n",
              "    </tr>\n",
              "  </thead>\n",
              "  <tbody>\n",
              "    <tr>\n",
              "      <th>0</th>\n",
              "      <td>63.0</td>\n",
              "      <td>1.0</td>\n",
              "      <td>1.0</td>\n",
              "      <td>145.0</td>\n",
              "      <td>233.0</td>\n",
              "      <td>1.0</td>\n",
              "      <td>2.0</td>\n",
              "      <td>150.0</td>\n",
              "      <td>0.0</td>\n",
              "      <td>2.3</td>\n",
              "      <td>3.0</td>\n",
              "      <td>0.0</td>\n",
              "      <td>6.0</td>\n",
              "      <td>0</td>\n",
              "    </tr>\n",
              "    <tr>\n",
              "      <th>1</th>\n",
              "      <td>67.0</td>\n",
              "      <td>1.0</td>\n",
              "      <td>4.0</td>\n",
              "      <td>160.0</td>\n",
              "      <td>286.0</td>\n",
              "      <td>0.0</td>\n",
              "      <td>2.0</td>\n",
              "      <td>108.0</td>\n",
              "      <td>1.0</td>\n",
              "      <td>1.5</td>\n",
              "      <td>2.0</td>\n",
              "      <td>3.0</td>\n",
              "      <td>3.0</td>\n",
              "      <td>2</td>\n",
              "    </tr>\n",
              "    <tr>\n",
              "      <th>2</th>\n",
              "      <td>67.0</td>\n",
              "      <td>1.0</td>\n",
              "      <td>4.0</td>\n",
              "      <td>120.0</td>\n",
              "      <td>229.0</td>\n",
              "      <td>0.0</td>\n",
              "      <td>2.0</td>\n",
              "      <td>129.0</td>\n",
              "      <td>1.0</td>\n",
              "      <td>2.6</td>\n",
              "      <td>2.0</td>\n",
              "      <td>2.0</td>\n",
              "      <td>7.0</td>\n",
              "      <td>1</td>\n",
              "    </tr>\n",
              "    <tr>\n",
              "      <th>3</th>\n",
              "      <td>37.0</td>\n",
              "      <td>1.0</td>\n",
              "      <td>3.0</td>\n",
              "      <td>130.0</td>\n",
              "      <td>250.0</td>\n",
              "      <td>0.0</td>\n",
              "      <td>0.0</td>\n",
              "      <td>187.0</td>\n",
              "      <td>0.0</td>\n",
              "      <td>3.5</td>\n",
              "      <td>3.0</td>\n",
              "      <td>0.0</td>\n",
              "      <td>3.0</td>\n",
              "      <td>0</td>\n",
              "    </tr>\n",
              "    <tr>\n",
              "      <th>4</th>\n",
              "      <td>41.0</td>\n",
              "      <td>0.0</td>\n",
              "      <td>2.0</td>\n",
              "      <td>130.0</td>\n",
              "      <td>204.0</td>\n",
              "      <td>0.0</td>\n",
              "      <td>2.0</td>\n",
              "      <td>172.0</td>\n",
              "      <td>0.0</td>\n",
              "      <td>1.4</td>\n",
              "      <td>1.0</td>\n",
              "      <td>0.0</td>\n",
              "      <td>3.0</td>\n",
              "      <td>0</td>\n",
              "    </tr>\n",
              "  </tbody>\n",
              "</table>\n",
              "</div>"
            ],
            "text/plain": [
              "    age  sex   cp  trestbps   chol  fbs  ...  exang  oldpeak  slope   ca  thal hd\n",
              "0  63.0  1.0  1.0     145.0  233.0  1.0  ...    0.0      2.3    3.0  0.0   6.0  0\n",
              "1  67.0  1.0  4.0     160.0  286.0  0.0  ...    1.0      1.5    2.0  3.0   3.0  2\n",
              "2  67.0  1.0  4.0     120.0  229.0  0.0  ...    1.0      2.6    2.0  2.0   7.0  1\n",
              "3  37.0  1.0  3.0     130.0  250.0  0.0  ...    0.0      3.5    3.0  0.0   3.0  0\n",
              "4  41.0  0.0  2.0     130.0  204.0  0.0  ...    0.0      1.4    1.0  0.0   3.0  0\n",
              "\n",
              "[5 rows x 14 columns]"
            ]
          },
          "metadata": {},
          "execution_count": 57
        }
      ]
    },
    {
      "cell_type": "markdown",
      "metadata": {
        "id": "AgFBAMyBjpG9"
      },
      "source": [
        "**Explanation of Feature and Target variable:**\n",
        "1. age = age in years, **Float**\n",
        "2. sex = (1 = male; 0 = female),** Category**\n",
        "3. cp = cp: chest pain type , **Category**\n",
        "* Value 1: typical angina\n",
        "*Value 2: atypical angina\n",
        "*Value 3: non-anginal pain\n",
        "*Value 4: asymptomatic\n",
        "\n",
        "4. trestbps = resting blood pressure (in mm Hg on admission to the hospital), **Float**\n",
        "\n",
        "5. chol= serum cholestoral in mg/dl, **Float**\n",
        "6. fbs = (fasting blood sugar > 120 mg/dl) (1 = true; 0 = false), **Category**\n",
        "7. restecg= resting electrocardiographic results, **Category**\n",
        "* Value 0: normal\n",
        "*Value 1: having ST-T wave abnormality (T wave inversions and/or ST elevation or depression of > 0.05 mV)\n",
        "*Value 2: showing probable or definite left ventricular hypertrophy by Estes' criteria\n",
        "8. thalach = maximum heart rate achieved, **float**\n",
        "9. exang = exercise induced angina (1 = yes; 0 = no), **Category**\n",
        "10. oldpeak = ST depression induced by exercise relative to rest, **Float**\n",
        "11. slope = the slope of the peak exercise ST segment, **Category**\n",
        "* Value 1: upsloping\n",
        "*Value 2: flat\n",
        "*Value 3: downsloping\n",
        "12. ca = number of major vessels (0-3) colored by flourosopy, **Float**\n",
        "13. thal = this is short of thallium heart scan(3 = normal; 6 = fixed defect; 7 = reversable defect), **Category**\n",
        "14. hd =the predicted attribute=diagnosis of heart disease \n"
      ]
    },
    {
      "cell_type": "code",
      "metadata": {
        "colab": {
          "base_uri": "https://localhost:8080/"
        },
        "id": "SQEwG5SLY2oS",
        "outputId": "b4140582-03e8-4bad-c720-cbb6859733c7"
      },
      "source": [
        "# check for missing values, data types of the columns\n",
        "df.info()"
      ],
      "execution_count": 58,
      "outputs": [
        {
          "output_type": "stream",
          "name": "stdout",
          "text": [
            "<class 'pandas.core.frame.DataFrame'>\n",
            "RangeIndex: 303 entries, 0 to 302\n",
            "Data columns (total 14 columns):\n",
            " #   Column    Non-Null Count  Dtype  \n",
            "---  ------    --------------  -----  \n",
            " 0   age       303 non-null    float64\n",
            " 1   sex       303 non-null    float64\n",
            " 2   cp        303 non-null    float64\n",
            " 3   trestbps  303 non-null    float64\n",
            " 4   chol      303 non-null    float64\n",
            " 5   fbs       303 non-null    float64\n",
            " 6   restecg   303 non-null    float64\n",
            " 7   thalach   303 non-null    float64\n",
            " 8   exang     303 non-null    float64\n",
            " 9   oldpeak   303 non-null    float64\n",
            " 10  slope     303 non-null    float64\n",
            " 11  ca        303 non-null    object \n",
            " 12  thal      303 non-null    object \n",
            " 13  hd        303 non-null    int64  \n",
            "dtypes: float64(11), int64(1), object(2)\n",
            "memory usage: 33.3+ KB\n"
          ]
        }
      ]
    },
    {
      "cell_type": "markdown",
      "metadata": {
        "id": "bvQsveljsx60"
      },
      "source": [
        "**Comment:**\n",
        "1. Number of observations (rows) = 303\n",
        "\n",
        "2. Number of columns = 14 (13 feature variables and 1 target variable)\n",
        "3. All columns are float64 datatype, except **ca** and **thal**, have the object type and one column , **hd** has int64\n",
        "4. From explaination of feature variable, we see that **ca** and **thal** must be int or float type. so object data type suggest there is something missing on in them."
      ]
    },
    {
      "cell_type": "markdown",
      "metadata": {
        "id": "w-Tpbavy6x6F"
      },
      "source": [
        "**Data Preprocessing:**"
      ]
    },
    {
      "cell_type": "code",
      "metadata": {
        "colab": {
          "base_uri": "https://localhost:8080/"
        },
        "id": "Fl1F8p39uMD8",
        "outputId": "44b15368-572a-4b6d-e1f1-bd141ad24138"
      },
      "source": [
        "# print out unique values for the columns called 'ca' and 'thal'\n",
        "print('ca features value ='+ str(df.ca.unique()))\n",
        "print('thal features value ='+ str(df.thal.unique()))\n"
      ],
      "execution_count": 59,
      "outputs": [
        {
          "output_type": "stream",
          "name": "stdout",
          "text": [
            "ca features value =['0.0' '3.0' '2.0' '1.0' '?']\n",
            "thal features value =['6.0' '3.0' '7.0' '?']\n"
          ]
        }
      ]
    },
    {
      "cell_type": "markdown",
      "metadata": {
        "id": "mRQPFHuCuaA6"
      },
      "source": [
        "**Comment:** \n",
        "1. we see that ca contains numbers (0.0, 3.0, 2.0 and 1.0 and question marks(?). The number represents the number of blood vessels that we lit up by fluroscopy and the question marks represent the mission data.\n",
        "2. In thal features contain a mixutre of numbers, repesenting the different diagnoses from the thalium heart scan , and question mark, which represent the missing value.\n"
      ]
    },
    {
      "cell_type": "markdown",
      "metadata": {
        "id": "F6wUIok5q7i1"
      },
      "source": [
        "**Deal with Missing values**"
      ]
    },
    {
      "cell_type": "code",
      "metadata": {
        "colab": {
          "base_uri": "https://localhost:8080/"
        },
        "id": "nCImV6vBxGmT",
        "outputId": "95bb5cc6-d349-4b7d-93d6-d15aaa66bb77"
      },
      "source": [
        "# print out the rows that contain missing values.\n",
        "print(df.loc[(df['ca']=='?') | (df['thal'] == '?')])   # use OR (|) operation\n",
        "print(len(df.loc[(df['ca']=='?') | (df['thal'] == '?')]))\n"
      ],
      "execution_count": 60,
      "outputs": [
        {
          "output_type": "stream",
          "name": "stdout",
          "text": [
            "      age  sex   cp  trestbps   chol  fbs  ...  exang  oldpeak  slope   ca  thal hd\n",
            "87   53.0  0.0  3.0     128.0  216.0  0.0  ...    0.0      0.0    1.0  0.0     ?  0\n",
            "166  52.0  1.0  3.0     138.0  223.0  0.0  ...    0.0      0.0    1.0    ?   3.0  0\n",
            "192  43.0  1.0  4.0     132.0  247.0  1.0  ...    1.0      0.1    2.0    ?   7.0  1\n",
            "266  52.0  1.0  4.0     128.0  204.0  1.0  ...    1.0      1.0    2.0  0.0     ?  2\n",
            "287  58.0  1.0  2.0     125.0  220.0  0.0  ...    0.0      0.4    2.0    ?   7.0  0\n",
            "302  38.0  1.0  3.0     138.0  175.0  0.0  ...    0.0      0.0    1.0    ?   3.0  0\n",
            "\n",
            "[6 rows x 14 columns]\n",
            "6\n"
          ]
        }
      ]
    },
    {
      "cell_type": "markdown",
      "metadata": {
        "id": "d4jiFB0_y_c9"
      },
      "source": [
        "Only 6 rows have missing values, so remove this 6 rows from the dataset"
      ]
    },
    {
      "cell_type": "code",
      "metadata": {
        "id": "uZusE1jm15h7"
      },
      "source": [
        "ind= [87, 166, 192, 266, 287, 302]\n",
        "df_no_missing= df.drop(df.index[ind])"
      ],
      "execution_count": 61,
      "outputs": []
    },
    {
      "cell_type": "code",
      "metadata": {
        "colab": {
          "base_uri": "https://localhost:8080/"
        },
        "id": "mvnQGve12PRF",
        "outputId": "a9fd2883-2618-46ec-d1ee-a58650045397"
      },
      "source": [
        "df_no_missing.shape"
      ],
      "execution_count": 62,
      "outputs": [
        {
          "output_type": "execute_result",
          "data": {
            "text/plain": [
              "(297, 14)"
            ]
          },
          "metadata": {},
          "execution_count": 62
        }
      ]
    },
    {
      "cell_type": "code",
      "metadata": {
        "colab": {
          "base_uri": "https://localhost:8080/"
        },
        "id": "FWPMm4g19NG0",
        "outputId": "933e3702-494c-4cf1-f316-56da80d3a481"
      },
      "source": [
        "# check the ca and thal column again\n",
        "print(df_no_missing.ca.unique())\n",
        "print(df_no_missing.thal.unique())\n"
      ],
      "execution_count": 63,
      "outputs": [
        {
          "output_type": "stream",
          "name": "stdout",
          "text": [
            "['0.0' '3.0' '2.0' '1.0']\n",
            "['6.0' '3.0' '7.0']\n"
          ]
        }
      ]
    },
    {
      "cell_type": "markdown",
      "metadata": {
        "id": "-h51ZJzC-KdF"
      },
      "source": [
        "**Feature and target variable separation**"
      ]
    },
    {
      "cell_type": "code",
      "metadata": {
        "colab": {
          "base_uri": "https://localhost:8080/"
        },
        "id": "BpUBczeb-NGL",
        "outputId": "6449f01e-6d50-413b-bee9-732415a4af81"
      },
      "source": [
        "X = df_no_missing.drop('hd', axis=1)\n",
        "y = df_no_missing[['hd']]\n",
        "\n",
        "print(X.shape, y.shape)"
      ],
      "execution_count": 64,
      "outputs": [
        {
          "output_type": "stream",
          "name": "stdout",
          "text": [
            "(297, 13) (297, 1)\n"
          ]
        }
      ]
    },
    {
      "cell_type": "markdown",
      "metadata": {
        "id": "t33hJIMc-mJl"
      },
      "source": [
        "**Format Data: One-Hot Encoding**\n",
        "\n",
        "One hot encoding is a process by which categorical variables are converted into a form that could be provided to ML algorithms to do a better job in prediction."
      ]
    },
    {
      "cell_type": "code",
      "metadata": {
        "colab": {
          "base_uri": "https://localhost:8080/",
          "height": 460
        },
        "id": "ESRWPxwi-rQM",
        "outputId": "d07f4bed-00b3-4b86-9fbf-c99ba005fc97"
      },
      "source": [
        "display(X.head(5))\n",
        "print(X.dtypes)"
      ],
      "execution_count": 65,
      "outputs": [
        {
          "output_type": "display_data",
          "data": {
            "text/html": [
              "<div>\n",
              "<style scoped>\n",
              "    .dataframe tbody tr th:only-of-type {\n",
              "        vertical-align: middle;\n",
              "    }\n",
              "\n",
              "    .dataframe tbody tr th {\n",
              "        vertical-align: top;\n",
              "    }\n",
              "\n",
              "    .dataframe thead th {\n",
              "        text-align: right;\n",
              "    }\n",
              "</style>\n",
              "<table border=\"1\" class=\"dataframe\">\n",
              "  <thead>\n",
              "    <tr style=\"text-align: right;\">\n",
              "      <th></th>\n",
              "      <th>age</th>\n",
              "      <th>sex</th>\n",
              "      <th>cp</th>\n",
              "      <th>trestbps</th>\n",
              "      <th>chol</th>\n",
              "      <th>fbs</th>\n",
              "      <th>restecg</th>\n",
              "      <th>thalach</th>\n",
              "      <th>exang</th>\n",
              "      <th>oldpeak</th>\n",
              "      <th>slope</th>\n",
              "      <th>ca</th>\n",
              "      <th>thal</th>\n",
              "    </tr>\n",
              "  </thead>\n",
              "  <tbody>\n",
              "    <tr>\n",
              "      <th>0</th>\n",
              "      <td>63.0</td>\n",
              "      <td>1.0</td>\n",
              "      <td>1.0</td>\n",
              "      <td>145.0</td>\n",
              "      <td>233.0</td>\n",
              "      <td>1.0</td>\n",
              "      <td>2.0</td>\n",
              "      <td>150.0</td>\n",
              "      <td>0.0</td>\n",
              "      <td>2.3</td>\n",
              "      <td>3.0</td>\n",
              "      <td>0.0</td>\n",
              "      <td>6.0</td>\n",
              "    </tr>\n",
              "    <tr>\n",
              "      <th>1</th>\n",
              "      <td>67.0</td>\n",
              "      <td>1.0</td>\n",
              "      <td>4.0</td>\n",
              "      <td>160.0</td>\n",
              "      <td>286.0</td>\n",
              "      <td>0.0</td>\n",
              "      <td>2.0</td>\n",
              "      <td>108.0</td>\n",
              "      <td>1.0</td>\n",
              "      <td>1.5</td>\n",
              "      <td>2.0</td>\n",
              "      <td>3.0</td>\n",
              "      <td>3.0</td>\n",
              "    </tr>\n",
              "    <tr>\n",
              "      <th>2</th>\n",
              "      <td>67.0</td>\n",
              "      <td>1.0</td>\n",
              "      <td>4.0</td>\n",
              "      <td>120.0</td>\n",
              "      <td>229.0</td>\n",
              "      <td>0.0</td>\n",
              "      <td>2.0</td>\n",
              "      <td>129.0</td>\n",
              "      <td>1.0</td>\n",
              "      <td>2.6</td>\n",
              "      <td>2.0</td>\n",
              "      <td>2.0</td>\n",
              "      <td>7.0</td>\n",
              "    </tr>\n",
              "    <tr>\n",
              "      <th>3</th>\n",
              "      <td>37.0</td>\n",
              "      <td>1.0</td>\n",
              "      <td>3.0</td>\n",
              "      <td>130.0</td>\n",
              "      <td>250.0</td>\n",
              "      <td>0.0</td>\n",
              "      <td>0.0</td>\n",
              "      <td>187.0</td>\n",
              "      <td>0.0</td>\n",
              "      <td>3.5</td>\n",
              "      <td>3.0</td>\n",
              "      <td>0.0</td>\n",
              "      <td>3.0</td>\n",
              "    </tr>\n",
              "    <tr>\n",
              "      <th>4</th>\n",
              "      <td>41.0</td>\n",
              "      <td>0.0</td>\n",
              "      <td>2.0</td>\n",
              "      <td>130.0</td>\n",
              "      <td>204.0</td>\n",
              "      <td>0.0</td>\n",
              "      <td>2.0</td>\n",
              "      <td>172.0</td>\n",
              "      <td>0.0</td>\n",
              "      <td>1.4</td>\n",
              "      <td>1.0</td>\n",
              "      <td>0.0</td>\n",
              "      <td>3.0</td>\n",
              "    </tr>\n",
              "  </tbody>\n",
              "</table>\n",
              "</div>"
            ],
            "text/plain": [
              "    age  sex   cp  trestbps   chol  ...  exang  oldpeak  slope   ca  thal\n",
              "0  63.0  1.0  1.0     145.0  233.0  ...    0.0      2.3    3.0  0.0   6.0\n",
              "1  67.0  1.0  4.0     160.0  286.0  ...    1.0      1.5    2.0  3.0   3.0\n",
              "2  67.0  1.0  4.0     120.0  229.0  ...    1.0      2.6    2.0  2.0   7.0\n",
              "3  37.0  1.0  3.0     130.0  250.0  ...    0.0      3.5    3.0  0.0   3.0\n",
              "4  41.0  0.0  2.0     130.0  204.0  ...    0.0      1.4    1.0  0.0   3.0\n",
              "\n",
              "[5 rows x 13 columns]"
            ]
          },
          "metadata": {}
        },
        {
          "output_type": "stream",
          "name": "stdout",
          "text": [
            "age         float64\n",
            "sex         float64\n",
            "cp          float64\n",
            "trestbps    float64\n",
            "chol        float64\n",
            "fbs         float64\n",
            "restecg     float64\n",
            "thalach     float64\n",
            "exang       float64\n",
            "oldpeak     float64\n",
            "slope       float64\n",
            "ca           object\n",
            "thal         object\n",
            "dtype: object\n"
          ]
        }
      ]
    },
    {
      "cell_type": "markdown",
      "metadata": {
        "id": "LOOQC_kaCOoM"
      },
      "source": [
        "**Comment:** age, trestbps, chol,thalach,oldpeak, ca features are **float64** and we want them to be floating point numbers. All other columns (sex, cp,fbs,restecg, exang, slope, thal) need to change as they all are **category** features. That's why, we use **one-hot encoding** here on this category features to make the all category same important. One-hot encding converts a column with more than 2 categories.Here, **sex, fbs, exang** only have 2 categories, only 0's and 1's and other features have multiple categoires. So there is no need to do anything special to them. Only apply **one-hot encoding** to features (cp,restecg, slope, thal)"
      ]
    },
    {
      "cell_type": "code",
      "metadata": {
        "colab": {
          "base_uri": "https://localhost:8080/"
        },
        "id": "ryEcB-i2F2L2",
        "outputId": "63b16185-e3ea-4f86-8ba6-a43e67bb3b61"
      },
      "source": [
        "# 3 category (sex, fbs(fasting blood sugar), exang(exercise induced angina) containg  only 0's and 1s, no need to format them\n",
        "# apply one-hot encoding to multiple categories features (cp(chest pain), restecg, slope, thal)\n",
        "X_encoded = pd.get_dummies(X, columns = ['cp', 'restecg','slope','thal']) \n",
        "X_encoded.head()\n",
        "print(X_encoded)"
      ],
      "execution_count": 66,
      "outputs": [
        {
          "output_type": "stream",
          "name": "stdout",
          "text": [
            "      age  sex  trestbps   chol  ...  slope_3.0  thal_3.0  thal_6.0  thal_7.0\n",
            "0    63.0  1.0     145.0  233.0  ...          1         0         1         0\n",
            "1    67.0  1.0     160.0  286.0  ...          0         1         0         0\n",
            "2    67.0  1.0     120.0  229.0  ...          0         0         0         1\n",
            "3    37.0  1.0     130.0  250.0  ...          1         1         0         0\n",
            "4    41.0  0.0     130.0  204.0  ...          0         1         0         0\n",
            "..    ...  ...       ...    ...  ...        ...       ...       ...       ...\n",
            "297  57.0  0.0     140.0  241.0  ...          0         0         0         1\n",
            "298  45.0  1.0     110.0  264.0  ...          0         0         0         1\n",
            "299  68.0  1.0     144.0  193.0  ...          0         0         0         1\n",
            "300  57.0  1.0     130.0  131.0  ...          0         0         0         1\n",
            "301  57.0  0.0     130.0  236.0  ...          0         1         0         0\n",
            "\n",
            "[297 rows x 22 columns]\n"
          ]
        }
      ]
    },
    {
      "cell_type": "markdown",
      "metadata": {
        "id": "MD6ThEMfLRYb"
      },
      "source": [
        "**Format target feature**"
      ]
    },
    {
      "cell_type": "code",
      "metadata": {
        "colab": {
          "base_uri": "https://localhost:8080/"
        },
        "id": "_dLkpDZEG5H_",
        "outputId": "4a275111-88c9-4150-c338-c8285372217f"
      },
      "source": [
        "# formate target features\n",
        "print(y.hd.unique())"
      ],
      "execution_count": 67,
      "outputs": [
        {
          "output_type": "stream",
          "name": "stdout",
          "text": [
            "[0 2 1 3 4]\n"
          ]
        }
      ]
    },
    {
      "cell_type": "markdown",
      "metadata": {
        "id": "GrjBZVM-KeF_"
      },
      "source": [
        "**Comment:** target feature-y doesn't just **contain 0s and 1s** . Instead, it has **5 different levels** of heart diseses, **0 = no heart disease** and **1-4** are various degrees of **heart disease**.\n",
        "But if we want to care about someone has heart disease or not, so we need to convert all numbers > 0 to 1."
      ]
    },
    {
      "cell_type": "code",
      "metadata": {
        "colab": {
          "base_uri": "https://localhost:8080/"
        },
        "id": "vNn0LcCILa0K",
        "outputId": "d7ac1899-f9ae-42f1-f204-f2b4aa03d6e0"
      },
      "source": [
        "y_not_zero_index = y > 0 # get the index for each non-zero value in y\n",
        "y[y_not_zero_index] = 1 #set each non-zero value in y to 1\n",
        "y.hd.unique()  # verify that y only contains 0 and 1\n"
      ],
      "execution_count": 68,
      "outputs": [
        {
          "output_type": "execute_result",
          "data": {
            "text/plain": [
              "array([0, 1])"
            ]
          },
          "metadata": {},
          "execution_count": 68
        }
      ]
    },
    {
      "cell_type": "markdown",
      "metadata": {
        "id": "EIFKQbefP_8d"
      },
      "source": [
        "**Train test separation**"
      ]
    },
    {
      "cell_type": "code",
      "metadata": {
        "colab": {
          "base_uri": "https://localhost:8080/"
        },
        "id": "DBJ28zCKQLu1",
        "outputId": "1b5e548a-fc52-40de-a7ad-63800a29c87d"
      },
      "source": [
        "X_train, X_test, y_train, y_test = train_test_split(X_encoded, \n",
        "                                                    y, \n",
        "                                                    test_size=0.3, \n",
        "                                                    random_state=42, stratify=y)\n",
        "\n",
        "print(X_train.shape, X_test.shape, y_train.shape, y_test.shape)"
      ],
      "execution_count": 69,
      "outputs": [
        {
          "output_type": "stream",
          "name": "stdout",
          "text": [
            "(207, 22) (90, 22) (207, 1) (90, 1)\n"
          ]
        }
      ]
    },
    {
      "cell_type": "markdown",
      "metadata": {
        "id": "ZIRq59CZlZB_"
      },
      "source": [
        "**ML_Model: Decision Tree Classifier**"
      ]
    },
    {
      "cell_type": "code",
      "metadata": {
        "id": "WZpxkOzUlbAk"
      },
      "source": [
        "model = DecisionTreeClassifier(random_state=42)\n",
        "model = model.fit(X_train, y_train)"
      ],
      "execution_count": 70,
      "outputs": []
    },
    {
      "cell_type": "markdown",
      "metadata": {
        "id": "xfWgMq-Fl-Fj"
      },
      "source": [
        "**A tree diagram of the decision Tree**"
      ]
    },
    {
      "cell_type": "code",
      "metadata": {
        "colab": {
          "base_uri": "https://localhost:8080/",
          "height": 575
        },
        "id": "1tUtKbwll9g8",
        "outputId": "1b4db848-4d79-485d-f538-3ccbcec7dda7"
      },
      "source": [
        "# plot a tree diagram\n",
        "plt.figure(figsize = (15, 10))\n",
        "plot_tree(model, filled = True,\n",
        "          rounded = True,\n",
        "          class_names = ['No HD', 'Yes HD'],\n",
        "          feature_names = X_encoded.columns, max_depth=3, fontsize=15);"
      ],
      "execution_count": 71,
      "outputs": [
        {
          "output_type": "display_data",
          "data": {
            "image/png": "[encoded data removed]",
            "text/plain": [
              "<Figure size 1080x720 with 1 Axes>"
            ]
          },
          "metadata": {
            "needs_background": "light"
          }
        }
      ]
    },
    {
      "cell_type": "markdown",
      "metadata": {
        "id": "0ZCabuPanGdf"
      },
      "source": [
        "**Prediction**"
      ]
    },
    {
      "cell_type": "code",
      "metadata": {
        "id": "aVjw_SMOnF-Q"
      },
      "source": [
        "y_pred = model.predict(X_test)"
      ],
      "execution_count": 72,
      "outputs": []
    },
    {
      "cell_type": "markdown",
      "metadata": {
        "id": "gp_8aVcowqud"
      },
      "source": [
        "**Prediction Comparison with the test data**"
      ]
    },
    {
      "cell_type": "code",
      "metadata": {
        "colab": {
          "base_uri": "https://localhost:8080/",
          "height": 362
        },
        "id": "yUrEIX5Lni7g",
        "outputId": "39c8a769-3898-4215-a3c7-0e4ab7e7649c"
      },
      "source": [
        "y_test['probability'] = np.round(model.predict_proba(X_test)[:,1], 2)\n",
        "y_test['pred']= y_pred\n",
        "y_test.sample(10)"
      ],
      "execution_count": 73,
      "outputs": [
        {
          "output_type": "execute_result",
          "data": {
            "text/html": [
              "<div>\n",
              "<style scoped>\n",
              "    .dataframe tbody tr th:only-of-type {\n",
              "        vertical-align: middle;\n",
              "    }\n",
              "\n",
              "    .dataframe tbody tr th {\n",
              "        vertical-align: top;\n",
              "    }\n",
              "\n",
              "    .dataframe thead th {\n",
              "        text-align: right;\n",
              "    }\n",
              "</style>\n",
              "<table border=\"1\" class=\"dataframe\">\n",
              "  <thead>\n",
              "    <tr style=\"text-align: right;\">\n",
              "      <th></th>\n",
              "      <th>hd</th>\n",
              "      <th>probability</th>\n",
              "      <th>pred</th>\n",
              "    </tr>\n",
              "  </thead>\n",
              "  <tbody>\n",
              "    <tr>\n",
              "      <th>137</th>\n",
              "      <td>1</td>\n",
              "      <td>0.0</td>\n",
              "      <td>0</td>\n",
              "    </tr>\n",
              "    <tr>\n",
              "      <th>133</th>\n",
              "      <td>0</td>\n",
              "      <td>0.0</td>\n",
              "      <td>0</td>\n",
              "    </tr>\n",
              "    <tr>\n",
              "      <th>67</th>\n",
              "      <td>0</td>\n",
              "      <td>0.0</td>\n",
              "      <td>0</td>\n",
              "    </tr>\n",
              "    <tr>\n",
              "      <th>214</th>\n",
              "      <td>1</td>\n",
              "      <td>1.0</td>\n",
              "      <td>1</td>\n",
              "    </tr>\n",
              "    <tr>\n",
              "      <th>295</th>\n",
              "      <td>0</td>\n",
              "      <td>0.0</td>\n",
              "      <td>0</td>\n",
              "    </tr>\n",
              "    <tr>\n",
              "      <th>278</th>\n",
              "      <td>1</td>\n",
              "      <td>0.0</td>\n",
              "      <td>0</td>\n",
              "    </tr>\n",
              "    <tr>\n",
              "      <th>262</th>\n",
              "      <td>0</td>\n",
              "      <td>0.0</td>\n",
              "      <td>0</td>\n",
              "    </tr>\n",
              "    <tr>\n",
              "      <th>33</th>\n",
              "      <td>0</td>\n",
              "      <td>1.0</td>\n",
              "      <td>1</td>\n",
              "    </tr>\n",
              "    <tr>\n",
              "      <th>265</th>\n",
              "      <td>1</td>\n",
              "      <td>0.0</td>\n",
              "      <td>0</td>\n",
              "    </tr>\n",
              "    <tr>\n",
              "      <th>213</th>\n",
              "      <td>1</td>\n",
              "      <td>0.0</td>\n",
              "      <td>0</td>\n",
              "    </tr>\n",
              "  </tbody>\n",
              "</table>\n",
              "</div>"
            ],
            "text/plain": [
              "     hd  probability  pred\n",
              "137   1          0.0     0\n",
              "133   0          0.0     0\n",
              "67    0          0.0     0\n",
              "214   1          1.0     1\n",
              "295   0          0.0     0\n",
              "278   1          0.0     0\n",
              "262   0          0.0     0\n",
              "33    0          1.0     1\n",
              "265   1          0.0     0\n",
              "213   1          0.0     0"
            ]
          },
          "metadata": {},
          "execution_count": 73
        }
      ]
    },
    {
      "cell_type": "markdown",
      "metadata": {
        "id": "CIvtxAn45BXF"
      },
      "source": [
        "**Model performance evaluation** use confusion matrix, accuracy, classificatin report, area under the curve(AUC) to know model performance."
      ]
    },
    {
      "cell_type": "markdown",
      "metadata": {
        "id": "xR0szv0foGo0"
      },
      "source": [
        "**Confusion Matrix**"
      ]
    },
    {
      "cell_type": "code",
      "metadata": {
        "colab": {
          "base_uri": "https://localhost:8080/",
          "height": 283
        },
        "id": "sVu3QJ6_M06l",
        "outputId": "dc08f856-91a4-42a8-96c1-76c6f165acfd"
      },
      "source": [
        "plot_confusion_matrix(model, X_test, y_test['hd'], display_labels = ['Does not have HD','Has HD'])\n",
        "plt.show()"
      ],
      "execution_count": 74,
      "outputs": [
        {
          "output_type": "display_data",
          "data": {
            "image/png": "[encoded data removed]",
            "text/plain": [
              "<Figure size 432x288 with 2 Axes>"
            ]
          },
          "metadata": {
            "needs_background": "light"
          }
        }
      ]
    },
    {
      "cell_type": "markdown",
      "metadata": {
        "id": "J_ZXTcIXp2pj"
      },
      "source": [
        "**Comment:**\n",
        "In the confusion matrix, **40 + 8 = 48** people that did not have Heart Disease, **40 (83%)** were correctly classified. **18 + 24 = 42 **people that have **Heart Disease**, **25 (59.52%)** were correctly classified."
      ]
    },
    {
      "cell_type": "markdown",
      "metadata": {
        "id": "yu2YzGjM51OF"
      },
      "source": [
        "**Accuracy**"
      ]
    },
    {
      "cell_type": "code",
      "metadata": {
        "colab": {
          "base_uri": "https://localhost:8080/"
        },
        "id": "6MkBNifm5a6c",
        "outputId": "a685ac13-8c45-4724-f03c-9122d6c0cd9c"
      },
      "source": [
        "print('Accuracy: ', accuracy_score(y_test['hd'],y_test['pred']))"
      ],
      "execution_count": 75,
      "outputs": [
        {
          "output_type": "stream",
          "name": "stdout",
          "text": [
            "Accuracy:  0.7111111111111111\n"
          ]
        }
      ]
    },
    {
      "cell_type": "markdown",
      "metadata": {
        "id": "ieT8_UQJ54Fb"
      },
      "source": [
        "**Model accuracy** is **71%** means that 29 of every 100 labels is incorrect, and 71 is correct for predicting **Heart disease**."
      ]
    },
    {
      "cell_type": "markdown",
      "metadata": {
        "id": "T0-bUGtdru_G"
      },
      "source": [
        "**Classification report**"
      ]
    },
    {
      "cell_type": "code",
      "metadata": {
        "colab": {
          "base_uri": "https://localhost:8080/"
        },
        "id": "oyIEtFjBpsTs",
        "outputId": "eaeb32c8-7fbb-4708-9f8f-3ff7a4e94783"
      },
      "source": [
        "class_report = classification_report(y_test['hd'], \n",
        "                                     y_test['pred'])\n",
        "print(\"Classification Report: \\n\", class_report)"
      ],
      "execution_count": 76,
      "outputs": [
        {
          "output_type": "stream",
          "name": "stdout",
          "text": [
            "Classification Report: \n",
            "               precision    recall  f1-score   support\n",
            "\n",
            "           0       0.69      0.83      0.75        48\n",
            "           1       0.75      0.57      0.65        42\n",
            "\n",
            "    accuracy                           0.71        90\n",
            "   macro avg       0.72      0.70      0.70        90\n",
            "weighted avg       0.72      0.71      0.71        90\n",
            "\n"
          ]
        }
      ]
    },
    {
      "cell_type": "markdown",
      "metadata": {
        "id": "lYpI1S_5w6Yz"
      },
      "source": [
        "**Comment:** \n",
        "1. **Precision**= Out of all the examples that predicted as positive, how many are really positive?\n",
        " here 75% means that model predicted as positive(**has heart disease**) **(24 + 8 =32**), but really positive (**has heart disease)** only 24 people.\n",
        "\n",
        "3. **Recall/sensitivity** = Out of all the positive examples, how many are predicted as positive?\n",
        "Here **57%** means that  all positive are (**18 +24 = 42**), but model predicted as positive only **24**\n",
        "4.  **F1-score:** The F1 score is a weighted harmonic mean of precision and recall such that the best score is 1.0 and the worst is 0.0.Accuracy is used when the True Positives and True negatives are more important while F1-score is used when the False Negatives and False Positives are crucial. Here Model F1-score is **0.65**\n",
        "5. **Support:**Support is the number of actual occurrences of the class in the specified dataset. Imbalanced support in the training data may indicate structural weaknesses in the reported scores of the classifier and could indicate the need for stratified sampling or rebalancing. Support doesn’t change between models but instead diagnoses the evaluation process."
      ]
    },
    {
      "cell_type": "markdown",
      "metadata": {
        "id": "s6D4GO3fr_gk"
      },
      "source": [
        "**ROC: Receiver Operating Characterisitcs and AUC: Area Under the Curve**\n",
        "\n",
        "The Area Under the Curve (AUC) is the measure of the ability of a classifier to distinguish between classes and The higher the AUC, the better the performance of the model at distinguishing between the positive and negative classes."
      ]
    },
    {
      "cell_type": "code",
      "metadata": {
        "colab": {
          "base_uri": "https://localhost:8080/",
          "height": 513
        },
        "id": "3z06wLVZsJOD",
        "outputId": "a75ed262-ef9c-4dba-ec8f-04159c3832c6"
      },
      "source": [
        "fpr, tpr, thr = roc_curve(y_test['hd'], \n",
        "                          y_test['probability'])\n",
        "auc = np.round(roc_auc_score(y_test['hd'], \n",
        "                             y_test['pred']), 2)\n",
        "\n",
        "plt.figure(figsize=(10, 8))\n",
        "plt.plot(fpr, \n",
        "         tpr, \n",
        "         color='green', \n",
        "         lw=2, \n",
        "         label=\"Curve Area = \" +str(auc))\n",
        "\n",
        "plt.plot([0, 1], [0, 1], color='blue', lw=2, linestyle='--')\n",
        "plt.xlabel('False Positive Rate (FPR)')\n",
        "plt.ylabel('True Positive Rate (TPR)')\n",
        "plt.title('ROC curve')\n",
        "plt.legend(loc=\"lower right\")\n",
        "plt.show()"
      ],
      "execution_count": 77,
      "outputs": [
        {
          "output_type": "display_data",
          "data": {
            "image/png": "[encoded data removed]",
            "text/plain": [
              "<Figure size 720x576 with 1 Axes>"
            ]
          },
          "metadata": {
            "needs_background": "light"
          }
        }
      ]
    },
    {
      "cell_type": "markdown",
      "metadata": {
        "id": "0KZK0re6w98D"
      },
      "source": [
        "**Comment:** Here model AUC value is 0.7 that means the classifier is able to detect more numbers of True positives and True negatives than False negatives and False positives."
      ]
    }
  ]
}